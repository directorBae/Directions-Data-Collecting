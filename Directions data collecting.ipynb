{
  "cells": [
    {
      "cell_type": "code",
      "execution_count": null,
      "metadata": {
        "id": "oj60WRGjaEUx"
      },
      "outputs": [],
      "source": [
        "import pandas as pd\n",
        "import numpy as np\n",
        "from haversine import haversine\n",
        "\n",
        "import json\n",
        "import urllib\n",
        "import ssl\n",
        "\n",
        "import folium"
      ]
    },
    {
      "attachments": {},
      "cell_type": "markdown",
      "metadata": {
        "id": "IvsadRpeaQuQ"
      },
      "source": [
        "# Google Maps API, NAVER Maps API"
      ]
    },
    {
      "cell_type": "code",
      "execution_count": null,
      "metadata": {
        "id": "xKkdCGTjSKw4"
      },
      "outputs": [],
      "source": [
        "def crawling_g(initial, final):\n",
        "        #Google Directions API\n",
        "        origin          = initial\n",
        "        destination     = final\n",
        "        mode            = \"transit\"\n",
        "        departure_time  = \"now\"\n",
        "        key             = \"-------Your Google API Key Here-------\"\n",
        "\n",
        "        url = \"https://maps.googleapis.com/maps/api/directions/json?origin=\"+ origin \\\n",
        "                + \"&destination=\" + destination \\\n",
        "                + \"&mode=\" + mode \\\n",
        "                + \"&departure_time=\" + departure_time\\\n",
        "                + \"&language=ko\" \\\n",
        "                + \"&key=\" + key\n",
        "\n",
        "        request         = urllib.request.Request(url)\n",
        "        context         = ssl._create_unverified_context()\n",
        "        response        = urllib.request.urlopen(request, context=context)\n",
        "        responseText    = response.read().decode('utf-8')\n",
        "        responseJson    = json.loads(responseText)\n",
        "\n",
        "        return responseJson"
      ]
    },
    {
      "cell_type": "code",
      "execution_count": null,
      "metadata": {
        "id": "P2hqQoWCZ7jn"
      },
      "outputs": [],
      "source": [
        "def crawling_n(start, goal) :\n",
        "    #Naver Directions API\n",
        "    client_id = \"-------Your Naver API ID Here-------\"\n",
        "    client_secret = \"-------Your Google API Key Here-------\"\n",
        "    url = f\"https://naveropenapi.apigw.ntruss.com/map-direction/v1/driving?start=\"+ start \\\n",
        "        + \"&goal=\" + goal\n",
        "    request = urllib.request.Request(url)\n",
        "    request.add_header('X-NCP-APIGW-API-KEY-ID', client_id)\n",
        "    request.add_header('X-NCP-APIGW-API-KEY', client_secret)\n",
        "\n",
        "    response = urllib.request.urlopen(request)\n",
        "    res = response.getcode()\n",
        "\n",
        "    if (res == 200) :\n",
        "        response_body = response.read().decode('utf-8')\n",
        "        responseJson = json.loads(response_body)\n",
        "        return responseJson"
      ]
    },
    {
      "cell_type": "code",
      "execution_count": null,
      "metadata": {
        "id": "XD1KTrlWZ8AP"
      },
      "outputs": [],
      "source": [
        "def parsing_g(directions):\n",
        "    '''\n",
        "    Inputs: the api result\n",
        "    Outputs: total travel time and location of nearby station\n",
        "    '''\n",
        "    if directions['status'] == 'OK':\n",
        "        # unit is seconds\n",
        "        total_tt = directions['routes'][0]['legs'][0]['duration']['value']\n",
        "        steps = directions['routes'][0]['legs'][0]['steps']\n",
        "        mode_list = [i['travel_mode'] for i in steps]\n",
        "        tt_list = [i['duration']['value'] for i in steps]\n",
        "        if 'TRANSIT' in mode_list:\n",
        "            s = mode_list.index('TRANSIT')\n",
        "            station_loc = steps[s]['transit_details']['departure_stop']['location']\n",
        "        else:\n",
        "            station_loc = None\n",
        "        return total_tt, station_loc, mode_list, tt_list\n",
        "    else: # if api call is not valid, return None\n",
        "        return None, None, None, None"
      ]
    },
    {
      "cell_type": "code",
      "execution_count": null,
      "metadata": {
        "id": "-lMRt55UZ8Ci"
      },
      "outputs": [],
      "source": [
        "def parsing_n(directions):\n",
        "    '''\n",
        "    Inputs: the api result\n",
        "    Outputs: total tollgates fare, taxi fare, fuel fare, times would be cost\n",
        "    '''\n",
        "    if directions['code'] == 0 :\n",
        "        toll = directions['route']['traoptimal'][0]['summary']['tollFare']\n",
        "        taxi = directions['route']['traoptimal'][0]['summary']['taxiFare']\n",
        "        fuel = directions['route']['traoptimal'][0]['summary']['fuelPrice']\n",
        "        time = directions['route']['traoptimal'][0]['summary']['duration']\n",
        "        return toll, taxi, fuel, time\n",
        "    else:\n",
        "        return None, None, None, None"
      ]
    },
    {
      "cell_type": "code",
      "execution_count": null,
      "metadata": {
        "id": "ETJ2U4husPhn"
      },
      "outputs": [],
      "source": [
        "def get_address(loc_str) :\n",
        "    client_id = \"-------Your Naver API ID Here-------\"\n",
        "    client_secret = \"-------Your Google API Key Here-------\"\n",
        "\n",
        "    url = f\"https://naveropenapi.apigw.ntruss.com/map-reversegeocode/v2/gc?request=coordsToaddr&coords=\"+loc_str+\"&sourcecrs=epsg:4326&output=json&orders=addr,admcode\"\n",
        "\n",
        "    request = urllib.request.Request(url)\n",
        "    request.add_header('X-NCP-APIGW-API-KEY-ID', client_id)\n",
        "    request.add_header('X-NCP-APIGW-API-KEY', client_secret)\n",
        "\n",
        "    response = urllib.request.urlopen(request)\n",
        "    res = response.getcode()\n",
        "\n",
        "    if (res == 200) :\n",
        "        response_body = response.read().decode('utf-8')\n",
        "        responseJson = json.loads(response_body)\n",
        "        return responseJson"
      ]
    },
    {
      "attachments": {},
      "cell_type": "markdown",
      "metadata": {
        "id": "aGl_Ckcp3Qmp"
      },
      "source": [
        "# City Data"
      ]
    },
    {
      "cell_type": "code",
      "execution_count": null,
      "metadata": {
        "id": "yrMjheEiaVdj"
      },
      "outputs": [],
      "source": [
        "city_loc = pd.read_csv(\"location_city.csv\", encoding='cp949')\n",
        "#Data Source -> S.Korean Public Data Portal"
      ]
    },
    {
      "cell_type": "code",
      "execution_count": null,
      "metadata": {
        "id": "oIRgtSco3fbe"
      },
      "outputs": [],
      "source": [
        "city_loc.drop(17, inplace=True)"
      ]
    },
    {
      "cell_type": "code",
      "execution_count": null,
      "metadata": {
        "colab": {
          "base_uri": "https://localhost:8080/",
          "height": 956
        },
        "id": "_-YMvvYqrSYk",
        "outputId": "4210fdf6-25b4-4b83-bd82-f14061f32507"
      },
      "outputs": [
        {
          "data": {
            "text/html": [
              "\n",
              "  <div id=\"df-db504f93-eb94-47af-90cc-1039cea6c586\">\n",
              "    <div class=\"colab-df-container\">\n",
              "      <div>\n",
              "<style scoped>\n",
              "    .dataframe tbody tr th:only-of-type {\n",
              "        vertical-align: middle;\n",
              "    }\n",
              "\n",
              "    .dataframe tbody tr th {\n",
              "        vertical-align: top;\n",
              "    }\n",
              "\n",
              "    .dataframe thead th {\n",
              "        text-align: right;\n",
              "    }\n",
              "</style>\n",
              "<table border=\"1\" class=\"dataframe\">\n",
              "  <thead>\n",
              "    <tr style=\"text-align: right;\">\n",
              "      <th></th>\n",
              "      <th>시도</th>\n",
              "      <th>시도명</th>\n",
              "      <th>위도</th>\n",
              "      <th>경도</th>\n",
              "      <th>축척</th>\n",
              "      <th>행정구역최소X좌표</th>\n",
              "      <th>행정구역최소Y좌표</th>\n",
              "      <th>행정구역최대X좌표</th>\n",
              "      <th>행정구역최대Y좌표</th>\n",
              "      <th>매핑코드</th>\n",
              "      <th>상태</th>\n",
              "      <th>시도단축명</th>\n",
              "      <th>지진해일발생분류</th>\n",
              "      <th>CBS연계하위시군구갯수</th>\n",
              "    </tr>\n",
              "  </thead>\n",
              "  <tbody>\n",
              "    <tr>\n",
              "      <th>0</th>\n",
              "      <td>11</td>\n",
              "      <td>서울특별시</td>\n",
              "      <td>37.594334</td>\n",
              "      <td>126.977656</td>\n",
              "      <td>25000.0</td>\n",
              "      <td>126.764264</td>\n",
              "      <td>37.428478</td>\n",
              "      <td>127.183535</td>\n",
              "      <td>37.701364</td>\n",
              "      <td>11000.0</td>\n",
              "      <td>Y</td>\n",
              "      <td>서울</td>\n",
              "      <td>NaN</td>\n",
              "      <td>25.0</td>\n",
              "    </tr>\n",
              "    <tr>\n",
              "      <th>1</th>\n",
              "      <td>26</td>\n",
              "      <td>부산광역시</td>\n",
              "      <td>35.105502</td>\n",
              "      <td>129.031892</td>\n",
              "      <td>5000.0</td>\n",
              "      <td>128.761407</td>\n",
              "      <td>34.932263</td>\n",
              "      <td>129.304070</td>\n",
              "      <td>35.388689</td>\n",
              "      <td>26000.0</td>\n",
              "      <td>Y</td>\n",
              "      <td>부산</td>\n",
              "      <td>Y</td>\n",
              "      <td>16.0</td>\n",
              "    </tr>\n",
              "    <tr>\n",
              "      <th>2</th>\n",
              "      <td>27</td>\n",
              "      <td>대구광역시</td>\n",
              "      <td>35.866572</td>\n",
              "      <td>128.593520</td>\n",
              "      <td>10000.0</td>\n",
              "      <td>128.350382</td>\n",
              "      <td>35.606778</td>\n",
              "      <td>128.763375</td>\n",
              "      <td>36.016459</td>\n",
              "      <td>27000.0</td>\n",
              "      <td>Y</td>\n",
              "      <td>대구</td>\n",
              "      <td>NaN</td>\n",
              "      <td>8.0</td>\n",
              "    </tr>\n",
              "    <tr>\n",
              "      <th>3</th>\n",
              "      <td>28</td>\n",
              "      <td>인천광역시</td>\n",
              "      <td>37.468389</td>\n",
              "      <td>126.482049</td>\n",
              "      <td>100000.0</td>\n",
              "      <td>124.592837</td>\n",
              "      <td>36.926850</td>\n",
              "      <td>126.793681</td>\n",
              "      <td>37.983802</td>\n",
              "      <td>28000.0</td>\n",
              "      <td>Y</td>\n",
              "      <td>인천</td>\n",
              "      <td>NaN</td>\n",
              "      <td>10.0</td>\n",
              "    </tr>\n",
              "    <tr>\n",
              "      <th>4</th>\n",
              "      <td>29</td>\n",
              "      <td>광주광역시</td>\n",
              "      <td>35.117018</td>\n",
              "      <td>126.949562</td>\n",
              "      <td>25000.0</td>\n",
              "      <td>126.646416</td>\n",
              "      <td>35.052092</td>\n",
              "      <td>127.022198</td>\n",
              "      <td>35.259303</td>\n",
              "      <td>29000.0</td>\n",
              "      <td>Y</td>\n",
              "      <td>광주</td>\n",
              "      <td>NaN</td>\n",
              "      <td>5.0</td>\n",
              "    </tr>\n",
              "    <tr>\n",
              "      <th>5</th>\n",
              "      <td>30</td>\n",
              "      <td>대전광역시</td>\n",
              "      <td>36.323839</td>\n",
              "      <td>127.475077</td>\n",
              "      <td>50000.0</td>\n",
              "      <td>127.246832</td>\n",
              "      <td>36.183266</td>\n",
              "      <td>127.557253</td>\n",
              "      <td>36.500203</td>\n",
              "      <td>30000.0</td>\n",
              "      <td>Y</td>\n",
              "      <td>대전</td>\n",
              "      <td>NaN</td>\n",
              "      <td>5.0</td>\n",
              "    </tr>\n",
              "    <tr>\n",
              "      <th>6</th>\n",
              "      <td>31</td>\n",
              "      <td>울산광역시</td>\n",
              "      <td>35.570971</td>\n",
              "      <td>129.309565</td>\n",
              "      <td>25000.0</td>\n",
              "      <td>128.970911</td>\n",
              "      <td>35.322050</td>\n",
              "      <td>129.464837</td>\n",
              "      <td>35.724718</td>\n",
              "      <td>31000.0</td>\n",
              "      <td>Y</td>\n",
              "      <td>울산</td>\n",
              "      <td>Y</td>\n",
              "      <td>5.0</td>\n",
              "    </tr>\n",
              "    <tr>\n",
              "      <th>7</th>\n",
              "      <td>36</td>\n",
              "      <td>세종특별자치시</td>\n",
              "      <td>36.560817</td>\n",
              "      <td>127.258755</td>\n",
              "      <td>100000.0</td>\n",
              "      <td>127.127658</td>\n",
              "      <td>36.406730</td>\n",
              "      <td>127.410806</td>\n",
              "      <td>36.733752</td>\n",
              "      <td>36000.0</td>\n",
              "      <td>Y</td>\n",
              "      <td>세종</td>\n",
              "      <td>NaN</td>\n",
              "      <td>1.0</td>\n",
              "    </tr>\n",
              "    <tr>\n",
              "      <th>8</th>\n",
              "      <td>41</td>\n",
              "      <td>경기도</td>\n",
              "      <td>37.313940</td>\n",
              "      <td>127.003597</td>\n",
              "      <td>25000.0</td>\n",
              "      <td>126.378668</td>\n",
              "      <td>36.893524</td>\n",
              "      <td>127.849448</td>\n",
              "      <td>38.292017</td>\n",
              "      <td>41000.0</td>\n",
              "      <td>Y</td>\n",
              "      <td>경기</td>\n",
              "      <td>NaN</td>\n",
              "      <td>31.0</td>\n",
              "    </tr>\n",
              "    <tr>\n",
              "      <th>9</th>\n",
              "      <td>42</td>\n",
              "      <td>강원도</td>\n",
              "      <td>37.890127</td>\n",
              "      <td>127.740070</td>\n",
              "      <td>100000.0</td>\n",
              "      <td>127.109253</td>\n",
              "      <td>37.028329</td>\n",
              "      <td>129.364009</td>\n",
              "      <td>38.616944</td>\n",
              "      <td>42000.0</td>\n",
              "      <td>Y</td>\n",
              "      <td>강원</td>\n",
              "      <td>Y</td>\n",
              "      <td>18.0</td>\n",
              "    </tr>\n",
              "    <tr>\n",
              "      <th>10</th>\n",
              "      <td>43</td>\n",
              "      <td>충청북도</td>\n",
              "      <td>36.592290</td>\n",
              "      <td>127.585012</td>\n",
              "      <td>50000.0</td>\n",
              "      <td>127.276706</td>\n",
              "      <td>36.011961</td>\n",
              "      <td>128.652210</td>\n",
              "      <td>37.258507</td>\n",
              "      <td>43000.0</td>\n",
              "      <td>Y</td>\n",
              "      <td>충북</td>\n",
              "      <td>NaN</td>\n",
              "      <td>11.0</td>\n",
              "    </tr>\n",
              "    <tr>\n",
              "      <th>11</th>\n",
              "      <td>44</td>\n",
              "      <td>충청남도</td>\n",
              "      <td>36.764127</td>\n",
              "      <td>127.220877</td>\n",
              "      <td>25000.0</td>\n",
              "      <td>125.540914</td>\n",
              "      <td>35.978014</td>\n",
              "      <td>127.638066</td>\n",
              "      <td>37.080020</td>\n",
              "      <td>44000.0</td>\n",
              "      <td>Y</td>\n",
              "      <td>충남</td>\n",
              "      <td>NaN</td>\n",
              "      <td>15.0</td>\n",
              "    </tr>\n",
              "    <tr>\n",
              "      <th>12</th>\n",
              "      <td>45</td>\n",
              "      <td>전라북도</td>\n",
              "      <td>35.792577</td>\n",
              "      <td>127.119662</td>\n",
              "      <td>50000.0</td>\n",
              "      <td>125.966600</td>\n",
              "      <td>35.299196</td>\n",
              "      <td>127.911474</td>\n",
              "      <td>36.156411</td>\n",
              "      <td>45000.0</td>\n",
              "      <td>Y</td>\n",
              "      <td>전북</td>\n",
              "      <td>NaN</td>\n",
              "      <td>14.0</td>\n",
              "    </tr>\n",
              "    <tr>\n",
              "      <th>13</th>\n",
              "      <td>46</td>\n",
              "      <td>전라남도</td>\n",
              "      <td>34.803134</td>\n",
              "      <td>126.390697</td>\n",
              "      <td>50000.0</td>\n",
              "      <td>125.076526</td>\n",
              "      <td>34.004947</td>\n",
              "      <td>127.905869</td>\n",
              "      <td>35.486296</td>\n",
              "      <td>46000.0</td>\n",
              "      <td>Y</td>\n",
              "      <td>전남</td>\n",
              "      <td>NaN</td>\n",
              "      <td>22.0</td>\n",
              "    </tr>\n",
              "    <tr>\n",
              "      <th>14</th>\n",
              "      <td>47</td>\n",
              "      <td>경상북도</td>\n",
              "      <td>35.958541</td>\n",
              "      <td>129.437926</td>\n",
              "      <td>100000.0</td>\n",
              "      <td>127.797015</td>\n",
              "      <td>35.565856</td>\n",
              "      <td>131.873083</td>\n",
              "      <td>37.549047</td>\n",
              "      <td>47000.0</td>\n",
              "      <td>Y</td>\n",
              "      <td>경북</td>\n",
              "      <td>Y</td>\n",
              "      <td>23.0</td>\n",
              "    </tr>\n",
              "    <tr>\n",
              "      <th>15</th>\n",
              "      <td>48</td>\n",
              "      <td>경상남도</td>\n",
              "      <td>35.308670</td>\n",
              "      <td>128.649262</td>\n",
              "      <td>50000.0</td>\n",
              "      <td>127.576087</td>\n",
              "      <td>34.497464</td>\n",
              "      <td>129.220003</td>\n",
              "      <td>35.914583</td>\n",
              "      <td>48000.0</td>\n",
              "      <td>Y</td>\n",
              "      <td>경남</td>\n",
              "      <td>NaN</td>\n",
              "      <td>18.0</td>\n",
              "    </tr>\n",
              "    <tr>\n",
              "      <th>16</th>\n",
              "      <td>50</td>\n",
              "      <td>제주특별자치도</td>\n",
              "      <td>33.443073</td>\n",
              "      <td>126.530409</td>\n",
              "      <td>10000.0</td>\n",
              "      <td>126.143456</td>\n",
              "      <td>33.112500</td>\n",
              "      <td>126.973748</td>\n",
              "      <td>34.013217</td>\n",
              "      <td>50000.0</td>\n",
              "      <td>Y</td>\n",
              "      <td>제주</td>\n",
              "      <td>NaN</td>\n",
              "      <td>2.0</td>\n",
              "    </tr>\n",
              "  </tbody>\n",
              "</table>\n",
              "</div>\n",
              "      <button class=\"colab-df-convert\" onclick=\"convertToInteractive('df-db504f93-eb94-47af-90cc-1039cea6c586')\"\n",
              "              title=\"Convert this dataframe to an interactive table.\"\n",
              "              style=\"display:none;\">\n",
              "        \n",
              "  <svg xmlns=\"http://www.w3.org/2000/svg\" height=\"24px\"viewBox=\"0 0 24 24\"\n",
              "       width=\"24px\">\n",
              "    <path d=\"M0 0h24v24H0V0z\" fill=\"none\"/>\n",
              "    <path d=\"M18.56 5.44l.94 2.06.94-2.06 2.06-.94-2.06-.94-.94-2.06-.94 2.06-2.06.94zm-11 1L8.5 8.5l.94-2.06 2.06-.94-2.06-.94L8.5 2.5l-.94 2.06-2.06.94zm10 10l.94 2.06.94-2.06 2.06-.94-2.06-.94-.94-2.06-.94 2.06-2.06.94z\"/><path d=\"M17.41 7.96l-1.37-1.37c-.4-.4-.92-.59-1.43-.59-.52 0-1.04.2-1.43.59L10.3 9.45l-7.72 7.72c-.78.78-.78 2.05 0 2.83L4 21.41c.39.39.9.59 1.41.59.51 0 1.02-.2 1.41-.59l7.78-7.78 2.81-2.81c.8-.78.8-2.07 0-2.86zM5.41 20L4 18.59l7.72-7.72 1.47 1.35L5.41 20z\"/>\n",
              "  </svg>\n",
              "      </button>\n",
              "      \n",
              "  <style>\n",
              "    .colab-df-container {\n",
              "      display:flex;\n",
              "      flex-wrap:wrap;\n",
              "      gap: 12px;\n",
              "    }\n",
              "\n",
              "    .colab-df-convert {\n",
              "      background-color: #E8F0FE;\n",
              "      border: none;\n",
              "      border-radius: 50%;\n",
              "      cursor: pointer;\n",
              "      display: none;\n",
              "      fill: #1967D2;\n",
              "      height: 32px;\n",
              "      padding: 0 0 0 0;\n",
              "      width: 32px;\n",
              "    }\n",
              "\n",
              "    .colab-df-convert:hover {\n",
              "      background-color: #E2EBFA;\n",
              "      box-shadow: 0px 1px 2px rgba(60, 64, 67, 0.3), 0px 1px 3px 1px rgba(60, 64, 67, 0.15);\n",
              "      fill: #174EA6;\n",
              "    }\n",
              "\n",
              "    [theme=dark] .colab-df-convert {\n",
              "      background-color: #3B4455;\n",
              "      fill: #D2E3FC;\n",
              "    }\n",
              "\n",
              "    [theme=dark] .colab-df-convert:hover {\n",
              "      background-color: #434B5C;\n",
              "      box-shadow: 0px 1px 3px 1px rgba(0, 0, 0, 0.15);\n",
              "      filter: drop-shadow(0px 1px 2px rgba(0, 0, 0, 0.3));\n",
              "      fill: #FFFFFF;\n",
              "    }\n",
              "  </style>\n",
              "\n",
              "      <script>\n",
              "        const buttonEl =\n",
              "          document.querySelector('#df-db504f93-eb94-47af-90cc-1039cea6c586 button.colab-df-convert');\n",
              "        buttonEl.style.display =\n",
              "          google.colab.kernel.accessAllowed ? 'block' : 'none';\n",
              "\n",
              "        async function convertToInteractive(key) {\n",
              "          const element = document.querySelector('#df-db504f93-eb94-47af-90cc-1039cea6c586');\n",
              "          const dataTable =\n",
              "            await google.colab.kernel.invokeFunction('convertToInteractive',\n",
              "                                                     [key], {});\n",
              "          if (!dataTable) return;\n",
              "\n",
              "          const docLinkHtml = 'Like what you see? Visit the ' +\n",
              "            '<a target=\"_blank\" href=https://colab.research.google.com/notebooks/data_table.ipynb>data table notebook</a>'\n",
              "            + ' to learn more about interactive tables.';\n",
              "          element.innerHTML = '';\n",
              "          dataTable['output_type'] = 'display_data';\n",
              "          await google.colab.output.renderOutput(dataTable, element);\n",
              "          const docLink = document.createElement('div');\n",
              "          docLink.innerHTML = docLinkHtml;\n",
              "          element.appendChild(docLink);\n",
              "        }\n",
              "      </script>\n",
              "    </div>\n",
              "  </div>\n",
              "  "
            ],
            "text/plain": [
              "    시도      시도명         위도          경도        축척   행정구역최소X좌표  행정구역최소Y좌표  \\\n",
              "0   11    서울특별시  37.594334  126.977656   25000.0  126.764264  37.428478   \n",
              "1   26    부산광역시  35.105502  129.031892    5000.0  128.761407  34.932263   \n",
              "2   27    대구광역시  35.866572  128.593520   10000.0  128.350382  35.606778   \n",
              "3   28    인천광역시  37.468389  126.482049  100000.0  124.592837  36.926850   \n",
              "4   29    광주광역시  35.117018  126.949562   25000.0  126.646416  35.052092   \n",
              "5   30    대전광역시  36.323839  127.475077   50000.0  127.246832  36.183266   \n",
              "6   31    울산광역시  35.570971  129.309565   25000.0  128.970911  35.322050   \n",
              "7   36  세종특별자치시  36.560817  127.258755  100000.0  127.127658  36.406730   \n",
              "8   41      경기도  37.313940  127.003597   25000.0  126.378668  36.893524   \n",
              "9   42      강원도  37.890127  127.740070  100000.0  127.109253  37.028329   \n",
              "10  43     충청북도  36.592290  127.585012   50000.0  127.276706  36.011961   \n",
              "11  44     충청남도  36.764127  127.220877   25000.0  125.540914  35.978014   \n",
              "12  45     전라북도  35.792577  127.119662   50000.0  125.966600  35.299196   \n",
              "13  46     전라남도  34.803134  126.390697   50000.0  125.076526  34.004947   \n",
              "14  47     경상북도  35.958541  129.437926  100000.0  127.797015  35.565856   \n",
              "15  48     경상남도  35.308670  128.649262   50000.0  127.576087  34.497464   \n",
              "16  50  제주특별자치도  33.443073  126.530409   10000.0  126.143456  33.112500   \n",
              "\n",
              "     행정구역최대X좌표  행정구역최대Y좌표     매핑코드 상태 시도단축명 지진해일발생분류  CBS연계하위시군구갯수  \n",
              "0   127.183535  37.701364  11000.0  Y    서울      NaN          25.0  \n",
              "1   129.304070  35.388689  26000.0  Y    부산        Y          16.0  \n",
              "2   128.763375  36.016459  27000.0  Y    대구      NaN           8.0  \n",
              "3   126.793681  37.983802  28000.0  Y    인천      NaN          10.0  \n",
              "4   127.022198  35.259303  29000.0  Y    광주      NaN           5.0  \n",
              "5   127.557253  36.500203  30000.0  Y    대전      NaN           5.0  \n",
              "6   129.464837  35.724718  31000.0  Y    울산        Y           5.0  \n",
              "7   127.410806  36.733752  36000.0  Y    세종      NaN           1.0  \n",
              "8   127.849448  38.292017  41000.0  Y    경기      NaN          31.0  \n",
              "9   129.364009  38.616944  42000.0  Y    강원        Y          18.0  \n",
              "10  128.652210  37.258507  43000.0  Y    충북      NaN          11.0  \n",
              "11  127.638066  37.080020  44000.0  Y    충남      NaN          15.0  \n",
              "12  127.911474  36.156411  45000.0  Y    전북      NaN          14.0  \n",
              "13  127.905869  35.486296  46000.0  Y    전남      NaN          22.0  \n",
              "14  131.873083  37.549047  47000.0  Y    경북        Y          23.0  \n",
              "15  129.220003  35.914583  48000.0  Y    경남      NaN          18.0  \n",
              "16  126.973748  34.013217  50000.0  Y    제주      NaN           2.0  "
            ]
          },
          "execution_count": 48,
          "metadata": {},
          "output_type": "execute_result"
        }
      ],
      "source": [
        "city_loc"
      ]
    },
    {
      "attachments": {},
      "cell_type": "markdown",
      "metadata": {
        "id": "9CE4bnvaoKwF"
      },
      "source": [
        "# Make Lattice on Map"
      ]
    },
    {
      "cell_type": "code",
      "execution_count": null,
      "metadata": {
        "id": "16Uynib0s-RD"
      },
      "outputs": [],
      "source": [
        "lattice_gap = {}\n",
        "\n",
        "#Make Lattices on Map by 2km or 5km\n",
        "#2km on Metropolitan City, 5km on Normal City as Gyongsangnamdo, Jeollanam-do, etc.\n",
        "\n",
        "for i in range(len(city_loc)):\n",
        "  if str(city_loc['시도명'].iloc[i])[-1:] == '시':\n",
        "    lattice_gap[city_loc['시도단축명'].iloc[i]] = 0.02\n",
        "  else:\n",
        "    lattice_gap[city_loc['시도단축명'].iloc[i]] = 0.05"
      ]
    },
    {
      "cell_type": "code",
      "execution_count": null,
      "metadata": {
        "id": "aUFYBpoSgnOO"
      },
      "outputs": [],
      "source": [
        "local_lattice = {}\n",
        "\n",
        "for i in range(len(city_loc)):\n",
        "  local_lattice[city_loc['시도단축명'].iloc[i]] = [np.arange(float(city_loc['행정구역최소Y좌표'].iloc[i]), float(city_loc['행정구역최대Y좌표'].iloc[i]), lattice_gap[city_loc['시도단축명'].iloc[i]]), np.arange(float(city_loc['행정구역최소X좌표'].iloc[i]), float(city_loc['행정구역최대X좌표'].iloc[i]), lattice_gap[city_loc['시도단축명'].iloc[i]])]"
      ]
    },
    {
      "cell_type": "code",
      "execution_count": null,
      "metadata": {
        "id": "MNecUg79g_Pk"
      },
      "outputs": [],
      "source": [
        "lattice_num = {}\n",
        "\n",
        "for i in range(len(local_lattice.keys())):\n",
        "  lattice_num[list(local_lattice.keys())[i]] = len(list(local_lattice.values())[i][0])*len(list(local_lattice.values())[i][1])"
      ]
    },
    {
      "cell_type": "code",
      "execution_count": null,
      "metadata": {
        "colab": {
          "base_uri": "https://localhost:8080/"
        },
        "id": "4P3OktM9rzCd",
        "outputId": "09b46f86-7898-4126-f610-aa88f081a2af"
      },
      "outputs": [
        {
          "data": {
            "text/plain": [
              "{'서울': 294,\n",
              " '부산': 644,\n",
              " '대구': 441,\n",
              " '인천': 5883,\n",
              " '광주': 209,\n",
              " '대전': 256,\n",
              " '울산': 525,\n",
              " '세종': 255,\n",
              " '경기': 840,\n",
              " '강원': 1472,\n",
              " '충북': 700,\n",
              " '충남': 966,\n",
              " '전북': 702,\n",
              " '전남': 1710,\n",
              " '경북': 3280,\n",
              " '경남': 957,\n",
              " '제주': 323}"
            ]
          },
          "execution_count": 84,
          "metadata": {},
          "output_type": "execute_result"
        }
      ],
      "source": [
        "lattice_num"
      ]
    },
    {
      "cell_type": "code",
      "execution_count": null,
      "metadata": {
        "colab": {
          "base_uri": "https://localhost:8080/",
          "height": 36
        },
        "id": "TuiSqOxTMyaG",
        "outputId": "c89e5e02-5099-4863-de57-61aac2a2e53a"
      },
      "outputs": [
        {
          "data": {
            "application/vnd.google.colaboratory.intrinsic+json": {
              "type": "string"
            },
            "text/plain": [
              "'제주특별자치도'"
            ]
          },
          "execution_count": 139,
          "metadata": {},
          "output_type": "execute_result"
        }
      ],
      "source": [
        "get_address(\"126.8747,33.525369\")['results'][0]['region']['area1']['name']"
      ]
    },
    {
      "cell_type": "code",
      "execution_count": null,
      "metadata": {
        "id": "3yLoX8opXaNP"
      },
      "outputs": [],
      "source": [
        "real_lattice_location = {}"
      ]
    },
    {
      "cell_type": "code",
      "execution_count": null,
      "metadata": {
        "id": "UF53gGCYswei"
      },
      "outputs": [],
      "source": [
        "templist = []\n",
        "\n",
        "for i in local_lattice['서울'][0]:\n",
        "  for j in local_lattice['서울'][1]:\n",
        "    location_str = str(j)+','+str(i)\n",
        "    try:\n",
        "      if get_address(location_str)['results'][0]['region']['area1']['name'] == '서울특별시':\n",
        "        templist.append((j, i))\n",
        "    except:\n",
        "      pass\n",
        "\n",
        "real_lattice_location['서울'] = templist"
      ]
    },
    {
      "cell_type": "code",
      "execution_count": null,
      "metadata": {
        "id": "6jOtJ-F5QDj5"
      },
      "outputs": [],
      "source": [
        "templist = []\n",
        "\n",
        "for i in local_lattice['경기'][0]:\n",
        "  for j in local_lattice['경기'][1]:\n",
        "    location_str = str(j)+','+str(i)\n",
        "    try:\n",
        "      if get_address(location_str)['results'][0]['region']['area1']['name'] == '경기도':\n",
        "        templist.append((j, i))\n",
        "    except:\n",
        "      pass\n",
        "\n",
        "real_lattice_location['경기'] = templist"
      ]
    },
    {
      "cell_type": "code",
      "execution_count": null,
      "metadata": {
        "id": "G19DtzwKQsTo"
      },
      "outputs": [],
      "source": [
        "templist = []\n",
        "\n",
        "for i in local_lattice['부산'][0]:\n",
        "  for j in local_lattice['부산'][1]:\n",
        "    location_str = str(j)+','+str(i)\n",
        "    try:\n",
        "      if get_address(location_str)['results'][0]['region']['area1']['name'] == '부산광역시':\n",
        "        templist.append((j, i))\n",
        "    except:\n",
        "      pass\n",
        "\n",
        "real_lattice_location['부산'] = templist"
      ]
    },
    {
      "cell_type": "code",
      "execution_count": null,
      "metadata": {
        "id": "G9VhuuyqQtQ0"
      },
      "outputs": [],
      "source": [
        "templist = []\n",
        "\n",
        "for i in local_lattice['제주'][0]:\n",
        "  for j in local_lattice['제주'][1]:\n",
        "    location_str = str(j)+','+str(i)\n",
        "    try:\n",
        "      if get_address(location_str)['results'][0]['region']['area1']['name'] == '제주특별자치도':\n",
        "        templist.append((j, i))\n",
        "    except:\n",
        "      pass\n",
        "\n",
        "real_lattice_location['제주'] = templist"
      ]
    },
    {
      "cell_type": "code",
      "execution_count": null,
      "metadata": {
        "colab": {
          "base_uri": "https://localhost:8080/"
        },
        "id": "48HfPbzlXgLz",
        "outputId": "ca65f027-bac4-4a7c-9091-b8e9533f5d8a"
      },
      "outputs": [
        {
          "name": "stdout",
          "output_type": "stream",
          "text": [
            "155 225 435 81\n"
          ]
        }
      ],
      "source": [
        "print(len(real_lattice_location['서울']), len(real_lattice_location['부산']), len(real_lattice_location['경기']), len(real_lattice_location['제주']))"
      ]
    },
    {
      "cell_type": "code",
      "execution_count": null,
      "metadata": {
        "id": "zTJuYQ4zc-Yn"
      },
      "outputs": [],
      "source": [
        "with open('real_lattice_location.json', 'w') as f :\n",
        "\tjson.dump(real_lattice_location, f)"
      ]
    },
    {
      "attachments": {},
      "cell_type": "markdown",
      "metadata": {
        "id": "x09QCuEJoO8z"
      },
      "source": [
        "# Directions API use"
      ]
    },
    {
      "cell_type": "code",
      "execution_count": null,
      "metadata": {
        "id": "DxqeHOQWe1lu"
      },
      "outputs": [],
      "source": [
        "with open('real_lattice_location.json', \"r\") as f:\n",
        "    real_lattice_location = json.load(f)"
      ]
    },
    {
      "cell_type": "code",
      "execution_count": null,
      "metadata": {
        "id": "8eu_fap-oGb5"
      },
      "outputs": [],
      "source": [
        "mobility_temp = []\n",
        "\n",
        "for loc1 in real_lattice_location['서울']:\n",
        "  templist = []\n",
        "  for loc2 in real_lattice_location['서울']:\n",
        "    if loc1 != loc2:\n",
        "      templist.append({'Public Transport': crawling_g(str(loc1[1])+','+str(loc1[0]), str(loc2[1])+','+str(loc2[0])), 'Car/Taxi': crawling_n(str(loc1[1])+','+str(loc1[0]), str(loc2[1])+','+str(loc2[0]))})\n",
        "    else:\n",
        "      templist.append(np.nan)\n",
        "  mobility_temp.append(templist)\n",
        "\n",
        "seoul_mobility = pd.DataFrame(mobility_temp, columns=list(map(str, real_lattice_location['서울'])), index=list(map(str, real_lattice_location['서울'])))\n",
        "seoul_mobility.to_json('Seoul_lattice_mobility.json')"
      ]
    },
    {
      "cell_type": "code",
      "execution_count": null,
      "metadata": {
        "colab": {
          "background_save": true
        },
        "id": "culWM2iVm5H7"
      },
      "outputs": [],
      "source": [
        "mobility_temp = []\n",
        "\n",
        "for loc1 in real_lattice_location['부산']:\n",
        "  templist = []\n",
        "  for loc2 in real_lattice_location['부산']:\n",
        "    if loc1 != loc2:\n",
        "      templist.append({'Public Transport': crawling_g(str(loc1[1])+','+str(loc1[0]), str(loc2[1])+','+str(loc2[0])), 'Car/Taxi': crawling_n(str(loc1[1])+','+str(loc1[0]), str(loc2[1])+','+str(loc2[0]))})\n",
        "    else:\n",
        "      templist.append(np.nan)\n",
        "  mobility_temp.append(templist)\n",
        "\n",
        "busan_mobility = pd.DataFrame(mobility_temp, columns=list(map(str, real_lattice_location['부산'])), index=list(map(str, real_lattice_location['부산'])))\n",
        "busan_mobility.to_json('Busan_lattice_mobility.json')"
      ]
    },
    {
      "cell_type": "code",
      "execution_count": null,
      "metadata": {
        "colab": {
          "background_save": true
        },
        "id": "Ey_KPI3N8Mt3"
      },
      "outputs": [],
      "source": [
        "mobility_temp = []\n",
        "\n",
        "for loc1 in real_lattice_location['제주']:\n",
        "  templist = []\n",
        "  for loc2 in real_lattice_location['제주']:\n",
        "    if loc1 != loc2:\n",
        "      templist.append({'Public Transport': crawling_g(str(loc1[1])+','+str(loc1[0]), str(loc2[1])+','+str(loc2[0])), 'Car/Taxi': crawling_n(str(loc1[1])+','+str(loc1[0]), str(loc2[1])+','+str(loc2[0]))})\n",
        "    else:\n",
        "      templist.append(np.nan)\n",
        "  mobility_temp.append(templist)\n",
        "\n",
        "jeju_mobility = pd.DataFrame(mobility_temp, columns=list(map(str, real_lattice_location['제주'])), index=list(map(str, real_lattice_location['제주'])))\n",
        "jeju_mobility.to_json('Jeju_lattice_mobility.json')"
      ]
    },
    {
      "cell_type": "code",
      "execution_count": null,
      "metadata": {
        "colab": {
          "background_save": true
        },
        "id": "VeoUDpGKoGIL",
        "outputId": "811f6dac-ebe6-4767-c5a1-d0d56359fde4"
      },
      "outputs": [],
      "source": [
        "mobility_temp = []\n",
        "\n",
        "for loc1 in real_lattice_location['경기']:\n",
        "  templist = []\n",
        "  for loc2 in real_lattice_location['경기']:\n",
        "    if loc1 != loc2:\n",
        "      templist.append({'Public Transport': crawling_g(str(loc1[1])+','+str(loc1[0]), str(loc2[1])+','+str(loc2[0])), 'Car/Taxi': crawling_n(str(loc1[1])+','+str(loc1[0]), str(loc2[1])+','+str(loc2[0]))})\n",
        "    else:\n",
        "      templist.append(np.nan)\n",
        "  mobility_temp.append(templist)\n",
        "\n",
        "gyounggi_mobility = pd.DataFrame(mobility_temp, columns=list(map(str, real_lattice_location['경기'])), index=list(map(str, real_lattice_location['경기'])))\n",
        "gyounggi_mobility.to_json('Gyounggi_lattice_mobility.json')"
      ]
    }
  ],
  "metadata": {
    "colab": {
      "collapsed_sections": [
        "IvsadRpeaQuQ",
        "aGl_Ckcp3Qmp",
        "9CE4bnvaoKwF"
      ],
      "machine_shape": "hm",
      "provenance": []
    },
    "kernelspec": {
      "display_name": "Python 3",
      "name": "python3"
    },
    "language_info": {
      "name": "python"
    }
  },
  "nbformat": 4,
  "nbformat_minor": 0
}
